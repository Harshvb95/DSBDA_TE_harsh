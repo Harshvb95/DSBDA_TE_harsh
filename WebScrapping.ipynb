{
  "nbformat": 4,
  "nbformat_minor": 0,
  "metadata": {
    "colab": {
      "provenance": []
    },
    "kernelspec": {
      "name": "python3",
      "display_name": "Python 3"
    },
    "language_info": {
      "name": "python"
    }
  },
  "cells": [
    {
      "cell_type": "code",
      "execution_count": 3,
      "metadata": {
        "id": "DddWwUi2xXTj",
        "colab": {
          "base_uri": "https://localhost:8080/"
        },
        "outputId": "9bc617f2-5fd7-4c0b-f6f8-0fc80ed159d6"
      },
      "outputs": [
        {
          "output_type": "stream",
          "name": "stdout",
          "text": [
            "Hey world\n"
          ]
        }
      ],
      "source": [
        "print(\"Hey world\")"
      ]
    },
    {
      "cell_type": "code",
      "source": [
        "import requests\n",
        "from bs4 import BeautifulSoup"
      ],
      "metadata": {
        "id": "gVMYU0jDVsVG"
      },
      "execution_count": 5,
      "outputs": []
    },
    {
      "cell_type": "code",
      "source": [
        "HEADERS = {'User-Agent': 'Mozilla/5.0 (Windows NT 10.0; Win64; x64) AppleWebKit/537.36 (KHTML, like Gecko) Chrome/90.0.4430.212 Safari/537.36',\n",
        "           'Accept-Language': 'en-US, en;q=0.5'}"
      ],
      "metadata": {
        "id": "wVga9vv7V5QJ"
      },
      "execution_count": 6,
      "outputs": []
    },
    {
      "cell_type": "code",
      "source": [
        "def getdata(site_url):\n",
        "    res = requests.get(site_url, headers=HEADERS)\n",
        "    return res.text"
      ],
      "metadata": {
        "id": "nzKxx1joWIQ0"
      },
      "execution_count": 7,
      "outputs": []
    },
    {
      "cell_type": "code",
      "source": [
        "def gethtml(site_url):\n",
        "    data = getdata(site_url)\n",
        "    soup = BeautifulSoup(data, 'html.parser')\n",
        "    return soup"
      ],
      "metadata": {
        "id": "YxWlRbRAWOjb"
      },
      "execution_count": 8,
      "outputs": []
    },
    {
      "cell_type": "code",
      "source": [
        "site_url = \"https://www.amazon.in/Oneplus-Celadon-Marble-128GB-Storage/dp/B0CX58MTNN/ref=sr_1_1_sspa?crid=3P4HCI7EWS20M&dib=eyJ2IjoiMSJ9.go3s5_P4WvwymLBfZ80wD_-wNt0mLDVpG5zEjvXdpOTYARTBXBimguTEoaLbEW1rhP6AREDcjtu5ktroh52M31y4YLKHbXc-ewdHs85sm5jPAga2eA2bFEc2poqC6rzUo3SUVgy4Fhp1FQsKnbs3kVBJ2S5iwhzd9sNdyqoWnrtCRMOGXc7lcOf9gkfckMzJwSXrWxxU0Nwuo7DvAttyNlMXt4TY1MBCId403PNOAP0.b-tMOCGVHY63vMWm2ECimvZOhAOaNBh1vM67v_mVRAI&dib_tag=se&keywords=nothing+phone+2a&qid=1714888575&sprefix=nothing%2Caps%2C375&sr=8-1-spons&sp_csd=d2lkZ2V0TmFtZT1zcF9hdGY&psc=1\"\n",
        "soup = gethtml(site_url)"
      ],
      "metadata": {
        "id": "BQOOhTv0WSDX"
      },
      "execution_count": 9,
      "outputs": []
    },
    {
      "cell_type": "code",
      "source": [
        "def getCustomerNameAndRatingAndReview(soup):\n",
        "    customer_list = []\n",
        "    for item in soup.find_all(\"div\", class_=\"a-section review aok-relative\"):\n",
        "        name = item.find(\"span\", class_=\"a-profile-name\").get_text()\n",
        "        rating = float(item.find(\"span\", class_=\"a-icon-alt\").get_text().split()[0])\n",
        "        review = item.find(\"div\", class_=\"a-expander-content reviewText review-text-content a-expander-partial-collapse-content\").get_text()\n",
        "        customer_list.append((name, rating, review))\n",
        "    return customer_list"
      ],
      "metadata": {
        "id": "3ohu-HICWYQx"
      },
      "execution_count": 10,
      "outputs": []
    },
    {
      "cell_type": "code",
      "source": [
        "customer_res = getCustomerNameAndRatingAndReview(soup)\n",
        "for name, rating, review in customer_res:\n",
        "    print(\"Name:\", name)\n",
        "    print(\"Rating:\", rating)\n",
        "    print(\"Reviews:\", review)\n",
        "    print()"
      ],
      "metadata": {
        "colab": {
          "base_uri": "https://localhost:8080/"
        },
        "id": "FqbTLRS_WcPt",
        "outputId": "7c04a59c-ce1d-4d82-d0fe-23e2aa84301f"
      },
      "execution_count": 11,
      "outputs": [
        {
          "output_type": "stream",
          "name": "stdout",
          "text": [
            "Name: Riya khera\n",
            "Rating: 5.0\n",
            "Reviews: \n",
            "Like smoothness, charging speed, Display, build quality, soundBackup also good medium use around 2 daysCharging speed half n hour for fullCamera is okFell lag sometimes in video section i hope update fixed this\n",
            "\n",
            "\n",
            "Name: Abi\n",
            "Rating: 4.0\n",
            "Reviews: \n",
            "Good camera and screen quality, charging is good but feels like battery consumption is little higher. Overall good mobile.\n",
            "\n",
            "\n",
            "Name: Rajesh\n",
            "Rating: 5.0\n",
            "Reviews: \n",
            "The OnePlus Nord CE 4 impresses on many fronts, boasting standout features like excellent battery life, blazing-fast charging, vibrant display, and smooth performance. On the downside, the plastic build might not feel as premium to some users. Additionally, there are reported software glitches, that could be fixed in Software Updates. The phone's overall Value For Money.\n",
            "\n",
            "\n",
            "Name: Priyanka Basumatary\n",
            "Rating: 1.0\n",
            "Reviews: \n",
            "Do not buy.Battery drains quickly,phone is lagging,camera quality also not Upto the mark.And customer service is the worst. Go for Samsung or other brands\n",
            "\n",
            "\n",
            "Name: Anil K.\n",
            "Rating: 5.0\n",
            "Reviews: \n",
            "Quality at this rate is too good,battery life is good i would say because without gaming it can run for 2 days and with heavy games it will go for 20 hours as smooth as butter no lag ,Brightness is on point,Appearance is good finishing is nice but there should be more color variants,Connectivity is good using it for jio and airtel 5g sim card both are running smooth af ,Size wise easy to use and handy and light weight...\n",
            "\n",
            "\n",
            "Name: A.M\n",
            "Rating: 5.0\n",
            "Reviews: \n",
            "Excellent phone from OnePlus. Flagship processor. True amoled display. Sound quality is awesome. In hand feeling is good. AI monitored battery is unique. Everything is nice. Just go for it.\n",
            "\n",
            "\n",
            "Name: H.l.\n",
            "Rating: 4.0\n",
            "Reviews: \n",
            "After using 3 days,Very good performance, nice phone, no any issues,When I applied taughen glass on display , four edges are not joining properly, is there any special curved there? I don't know...\n",
            "\n",
            "\n",
            "Name: Mubashir Farooq\n",
            "Rating: 5.0\n",
            "Reviews: \n",
            "After 5 days of use... Till now everything is good but dont know why it shows only 2gb ram free out of 8gb..Camera is good not perfect..Features present are impressive. Battery life is perfect. Looking great in hand... brightness and connectivity is perfect. will review again after 1 month.\n",
            "\n",
            "\n"
          ]
        }
      ]
    }
  ]
}